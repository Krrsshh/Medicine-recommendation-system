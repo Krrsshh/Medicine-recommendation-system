{
 "cells": [
  {
   "cell_type": "code",
   "execution_count": 5,
   "id": "f7c6cdc1",
   "metadata": {},
   "outputs": [
    {
     "name": "stderr",
     "output_type": "stream",
     "text": [
      "/var/folders/ty/hpgmhx4d1fgb74lcyb4_wrk40000gn/T/ipykernel_1994/1662815981.py:2: DeprecationWarning: \n",
      "Pyarrow will become a required dependency of pandas in the next major release of pandas (pandas 3.0),\n",
      "(to allow more performant data types, such as the Arrow string type, and better interoperability with other libraries)\n",
      "but was not found to be installed on your system.\n",
      "If this would cause problems for you,\n",
      "please provide us feedback at https://github.com/pandas-dev/pandas/issues/54466\n",
      "        \n",
      "  import pandas as pd\n"
     ]
    }
   ],
   "source": [
    "import numpy as np\n",
    "import pandas as pd"
   ]
  },
  {
   "cell_type": "code",
   "execution_count": 6,
   "id": "15f114cc",
   "metadata": {},
   "outputs": [],
   "source": [
    "data= pd.read_csv(\"/Users/krishna/Desktop/Personal projects/medicine_data.csv\")"
   ]
  },
  {
   "cell_type": "code",
   "execution_count": 7,
   "id": "514248ae",
   "metadata": {},
   "outputs": [
    {
     "data": {
      "text/html": [
       "<div>\n",
       "<style scoped>\n",
       "    .dataframe tbody tr th:only-of-type {\n",
       "        vertical-align: middle;\n",
       "    }\n",
       "\n",
       "    .dataframe tbody tr th {\n",
       "        vertical-align: top;\n",
       "    }\n",
       "\n",
       "    .dataframe thead th {\n",
       "        text-align: right;\n",
       "    }\n",
       "</style>\n",
       "<table border=\"1\" class=\"dataframe\">\n",
       "  <thead>\n",
       "    <tr style=\"text-align: right;\">\n",
       "      <th></th>\n",
       "      <th>sub_category</th>\n",
       "      <th>product_name</th>\n",
       "      <th>salt_composition</th>\n",
       "      <th>product_price</th>\n",
       "      <th>product_manufactured</th>\n",
       "      <th>medicine_desc</th>\n",
       "      <th>side_effects</th>\n",
       "      <th>drug_interactions</th>\n",
       "    </tr>\n",
       "  </thead>\n",
       "  <tbody>\n",
       "    <tr>\n",
       "      <th>0</th>\n",
       "      <td>Human Insulin Basal</td>\n",
       "      <td>Human Insulatard 40IU/ml Suspension for Injection</td>\n",
       "      <td>Insulin Isophane (40IU)</td>\n",
       "      <td>₹133.93</td>\n",
       "      <td>Novo Nordisk India Pvt Ltd</td>\n",
       "      <td>Human Insulatard 40IU/ml Suspension for Inject...</td>\n",
       "      <td>Hypoglycemia (low blood glucose level),Injecti...</td>\n",
       "      <td>{\"drug\": [\"Benazepril\", \"Captopril\", \"Enalapri...</td>\n",
       "    </tr>\n",
       "    <tr>\n",
       "      <th>1</th>\n",
       "      <td>Human Insulin Basal</td>\n",
       "      <td>Insulin 40IU/ml Injection</td>\n",
       "      <td>Insulin Isophane (40IU)</td>\n",
       "      <td>₹121.91</td>\n",
       "      <td>Sun Pharmaceutical Industries Ltd</td>\n",
       "      <td>Insulin 40IU/ml Injection is used to improve b...</td>\n",
       "      <td>Hypoglycemia (low blood glucose level),Injecti...</td>\n",
       "      <td>{\"drug\": [\"Benazepril\", \"Captopril\", \"Enalapri...</td>\n",
       "    </tr>\n",
       "    <tr>\n",
       "      <th>2</th>\n",
       "      <td>Human Insulin Basal</td>\n",
       "      <td>Huminsulin N 40IU/ml Injection</td>\n",
       "      <td>Insulin Isophane (40IU)</td>\n",
       "      <td>₹133.45</td>\n",
       "      <td>Eli Lilly and Company India Pvt Ltd</td>\n",
       "      <td>Huminsulin N 40IU/ml Injection is used to impr...</td>\n",
       "      <td>Hypoglycemia (low blood glucose level),Injecti...</td>\n",
       "      <td>{\"drug\": [\"Benazepril\", \"Captopril\", \"Enalapri...</td>\n",
       "    </tr>\n",
       "    <tr>\n",
       "      <th>3</th>\n",
       "      <td>Human Insulin Basal</td>\n",
       "      <td>Insugen-N 40IU/ml Injection</td>\n",
       "      <td>Insulin Isophane (40IU)</td>\n",
       "      <td>₹133.36</td>\n",
       "      <td>Biocon</td>\n",
       "      <td>Insugen-N 40IU/ml Injection is used to improve...</td>\n",
       "      <td>Hypoglycemia (low blood glucose level),Injecti...</td>\n",
       "      <td>{\"drug\": [\"Benazepril\", \"Captopril\", \"Enalapri...</td>\n",
       "    </tr>\n",
       "    <tr>\n",
       "      <th>4</th>\n",
       "      <td>Human Insulin Basal</td>\n",
       "      <td>Insulatard 100IU/ml Flexpen</td>\n",
       "      <td>Insulin Isophane (100IU/ml)</td>\n",
       "      <td>₹401.03</td>\n",
       "      <td>Novo Nordisk India Pvt Ltd</td>\n",
       "      <td>Insulatard 100IU/ml Flexpen is used to improve...</td>\n",
       "      <td>Hypoglycemia (low blood glucose level),Injecti...</td>\n",
       "      <td>{\"drug\": [\"Benazepril\", \"Captopril\", \"Enalapri...</td>\n",
       "    </tr>\n",
       "  </tbody>\n",
       "</table>\n",
       "</div>"
      ],
      "text/plain": [
       "          sub_category                                       product_name  \\\n",
       "0  Human Insulin Basal  Human Insulatard 40IU/ml Suspension for Injection   \n",
       "1  Human Insulin Basal                          Insulin 40IU/ml Injection   \n",
       "2  Human Insulin Basal                     Huminsulin N 40IU/ml Injection   \n",
       "3  Human Insulin Basal                        Insugen-N 40IU/ml Injection   \n",
       "4  Human Insulin Basal                        Insulatard 100IU/ml Flexpen   \n",
       "\n",
       "              salt_composition product_price  \\\n",
       "0      Insulin Isophane (40IU)       ₹133.93   \n",
       "1      Insulin Isophane (40IU)       ₹121.91   \n",
       "2      Insulin Isophane (40IU)       ₹133.45   \n",
       "3      Insulin Isophane (40IU)       ₹133.36   \n",
       "4  Insulin Isophane (100IU/ml)       ₹401.03   \n",
       "\n",
       "                  product_manufactured  \\\n",
       "0           Novo Nordisk India Pvt Ltd   \n",
       "1    Sun Pharmaceutical Industries Ltd   \n",
       "2  Eli Lilly and Company India Pvt Ltd   \n",
       "3                               Biocon   \n",
       "4           Novo Nordisk India Pvt Ltd   \n",
       "\n",
       "                                       medicine_desc  \\\n",
       "0  Human Insulatard 40IU/ml Suspension for Inject...   \n",
       "1  Insulin 40IU/ml Injection is used to improve b...   \n",
       "2  Huminsulin N 40IU/ml Injection is used to impr...   \n",
       "3  Insugen-N 40IU/ml Injection is used to improve...   \n",
       "4  Insulatard 100IU/ml Flexpen is used to improve...   \n",
       "\n",
       "                                        side_effects  \\\n",
       "0  Hypoglycemia (low blood glucose level),Injecti...   \n",
       "1  Hypoglycemia (low blood glucose level),Injecti...   \n",
       "2  Hypoglycemia (low blood glucose level),Injecti...   \n",
       "3  Hypoglycemia (low blood glucose level),Injecti...   \n",
       "4  Hypoglycemia (low blood glucose level),Injecti...   \n",
       "\n",
       "                                   drug_interactions  \n",
       "0  {\"drug\": [\"Benazepril\", \"Captopril\", \"Enalapri...  \n",
       "1  {\"drug\": [\"Benazepril\", \"Captopril\", \"Enalapri...  \n",
       "2  {\"drug\": [\"Benazepril\", \"Captopril\", \"Enalapri...  \n",
       "3  {\"drug\": [\"Benazepril\", \"Captopril\", \"Enalapri...  \n",
       "4  {\"drug\": [\"Benazepril\", \"Captopril\", \"Enalapri...  "
      ]
     },
     "execution_count": 7,
     "metadata": {},
     "output_type": "execute_result"
    }
   ],
   "source": [
    "data.head(5)"
   ]
  },
  {
   "cell_type": "code",
   "execution_count": 8,
   "id": "0d92541c",
   "metadata": {},
   "outputs": [
    {
     "data": {
      "text/plain": [
       "sub_category                0\n",
       "product_name                0\n",
       "salt_composition            0\n",
       "product_price           19436\n",
       "product_manufactured        0\n",
       "medicine_desc               0\n",
       "side_effects                0\n",
       "drug_interactions           0\n",
       "dtype: int64"
      ]
     },
     "execution_count": 8,
     "metadata": {},
     "output_type": "execute_result"
    }
   ],
   "source": [
    "data.isnull().sum()"
   ]
  },
  {
   "cell_type": "code",
   "execution_count": 9,
   "id": "ab2b8636",
   "metadata": {},
   "outputs": [],
   "source": [
    "data = data.drop(['product_price', 'sub_category', 'product_manufactured', 'drug_interactions'], axis=1) \n"
   ]
  },
  {
   "cell_type": "code",
   "execution_count": 10,
   "id": "7871ddec",
   "metadata": {},
   "outputs": [
    {
     "data": {
      "text/plain": [
       "188128"
      ]
     },
     "execution_count": 10,
     "metadata": {},
     "output_type": "execute_result"
    }
   ],
   "source": [
    "data.duplicated().sum()"
   ]
  },
  {
   "cell_type": "code",
   "execution_count": 11,
   "id": "3e38179e",
   "metadata": {},
   "outputs": [
    {
     "data": {
      "text/plain": [
       "(195605, 4)"
      ]
     },
     "execution_count": 11,
     "metadata": {},
     "output_type": "execute_result"
    }
   ],
   "source": [
    "\n",
    "data.shape"
   ]
  },
  {
   "cell_type": "code",
   "execution_count": 12,
   "id": "3b762a72",
   "metadata": {},
   "outputs": [],
   "source": [
    "data = data.drop_duplicates()"
   ]
  },
  {
   "cell_type": "code",
   "execution_count": 13,
   "id": "0c27a1f6",
   "metadata": {},
   "outputs": [
    {
     "data": {
      "text/plain": [
       "(7477, 4)"
      ]
     },
     "execution_count": 13,
     "metadata": {},
     "output_type": "execute_result"
    }
   ],
   "source": [
    "data.shape"
   ]
  },
  {
   "cell_type": "code",
   "execution_count": 14,
   "id": "04ef1c09",
   "metadata": {},
   "outputs": [
    {
     "data": {
      "text/html": [
       "<div>\n",
       "<style scoped>\n",
       "    .dataframe tbody tr th:only-of-type {\n",
       "        vertical-align: middle;\n",
       "    }\n",
       "\n",
       "    .dataframe tbody tr th {\n",
       "        vertical-align: top;\n",
       "    }\n",
       "\n",
       "    .dataframe thead th {\n",
       "        text-align: right;\n",
       "    }\n",
       "</style>\n",
       "<table border=\"1\" class=\"dataframe\">\n",
       "  <thead>\n",
       "    <tr style=\"text-align: right;\">\n",
       "      <th></th>\n",
       "      <th>product_name</th>\n",
       "      <th>salt_composition</th>\n",
       "      <th>medicine_desc</th>\n",
       "      <th>side_effects</th>\n",
       "    </tr>\n",
       "  </thead>\n",
       "  <tbody>\n",
       "    <tr>\n",
       "      <th>0</th>\n",
       "      <td>Human Insulatard 40IU/ml Suspension for Injection</td>\n",
       "      <td>Insulin Isophane (40IU)</td>\n",
       "      <td>Human Insulatard 40IU/ml Suspension for Inject...</td>\n",
       "      <td>Hypoglycemia (low blood glucose level),Injecti...</td>\n",
       "    </tr>\n",
       "    <tr>\n",
       "      <th>1</th>\n",
       "      <td>Insulin 40IU/ml Injection</td>\n",
       "      <td>Insulin Isophane (40IU)</td>\n",
       "      <td>Insulin 40IU/ml Injection is used to improve b...</td>\n",
       "      <td>Hypoglycemia (low blood glucose level),Injecti...</td>\n",
       "    </tr>\n",
       "    <tr>\n",
       "      <th>2</th>\n",
       "      <td>Huminsulin N 40IU/ml Injection</td>\n",
       "      <td>Insulin Isophane (40IU)</td>\n",
       "      <td>Huminsulin N 40IU/ml Injection is used to impr...</td>\n",
       "      <td>Hypoglycemia (low blood glucose level),Injecti...</td>\n",
       "    </tr>\n",
       "    <tr>\n",
       "      <th>3</th>\n",
       "      <td>Insugen-N 40IU/ml Injection</td>\n",
       "      <td>Insulin Isophane (40IU)</td>\n",
       "      <td>Insugen-N 40IU/ml Injection is used to improve...</td>\n",
       "      <td>Hypoglycemia (low blood glucose level),Injecti...</td>\n",
       "    </tr>\n",
       "    <tr>\n",
       "      <th>4</th>\n",
       "      <td>Insulatard 100IU/ml Flexpen</td>\n",
       "      <td>Insulin Isophane (100IU/ml)</td>\n",
       "      <td>Insulatard 100IU/ml Flexpen is used to improve...</td>\n",
       "      <td>Hypoglycemia (low blood glucose level),Injecti...</td>\n",
       "    </tr>\n",
       "  </tbody>\n",
       "</table>\n",
       "</div>"
      ],
      "text/plain": [
       "                                        product_name  \\\n",
       "0  Human Insulatard 40IU/ml Suspension for Injection   \n",
       "1                          Insulin 40IU/ml Injection   \n",
       "2                     Huminsulin N 40IU/ml Injection   \n",
       "3                        Insugen-N 40IU/ml Injection   \n",
       "4                        Insulatard 100IU/ml Flexpen   \n",
       "\n",
       "              salt_composition  \\\n",
       "0      Insulin Isophane (40IU)   \n",
       "1      Insulin Isophane (40IU)   \n",
       "2      Insulin Isophane (40IU)   \n",
       "3      Insulin Isophane (40IU)   \n",
       "4  Insulin Isophane (100IU/ml)   \n",
       "\n",
       "                                       medicine_desc  \\\n",
       "0  Human Insulatard 40IU/ml Suspension for Inject...   \n",
       "1  Insulin 40IU/ml Injection is used to improve b...   \n",
       "2  Huminsulin N 40IU/ml Injection is used to impr...   \n",
       "3  Insugen-N 40IU/ml Injection is used to improve...   \n",
       "4  Insulatard 100IU/ml Flexpen is used to improve...   \n",
       "\n",
       "                                        side_effects  \n",
       "0  Hypoglycemia (low blood glucose level),Injecti...  \n",
       "1  Hypoglycemia (low blood glucose level),Injecti...  \n",
       "2  Hypoglycemia (low blood glucose level),Injecti...  \n",
       "3  Hypoglycemia (low blood glucose level),Injecti...  \n",
       "4  Hypoglycemia (low blood glucose level),Injecti...  "
      ]
     },
     "execution_count": 14,
     "metadata": {},
     "output_type": "execute_result"
    }
   ],
   "source": [
    "data.head(5)"
   ]
  },
  {
   "cell_type": "code",
   "execution_count": 15,
   "id": "0bc291d0",
   "metadata": {},
   "outputs": [
    {
     "data": {
      "text/plain": [
       "'Hypoglycemia (low blood glucose level),Injection site allergic reaction,Lipodystrophy (skin thickening or pits at the injection site),Weight gain,Edema (swelling)'"
      ]
     },
     "execution_count": 15,
     "metadata": {},
     "output_type": "execute_result"
    }
   ],
   "source": [
    "data.iloc[0].side_effects"
   ]
  },
  {
   "cell_type": "code",
   "execution_count": 16,
   "id": "bb769f2a",
   "metadata": {},
   "outputs": [],
   "source": [
    "# Convert the cell data to a list\n",
    "data['side_effects'] = data['side_effects'].apply(lambda x: x.split(','))\n",
    "data['medicine_desc'] = data['medicine_desc'].apply(lambda x: x.split()) \n",
    "data['salt_composition'] = data['salt_composition'].apply(lambda x: x.split())\n"
   ]
  },
  {
   "cell_type": "code",
   "execution_count": 17,
   "id": "2fe62a00",
   "metadata": {},
   "outputs": [
    {
     "data": {
      "text/html": [
       "<div>\n",
       "<style scoped>\n",
       "    .dataframe tbody tr th:only-of-type {\n",
       "        vertical-align: middle;\n",
       "    }\n",
       "\n",
       "    .dataframe tbody tr th {\n",
       "        vertical-align: top;\n",
       "    }\n",
       "\n",
       "    .dataframe thead th {\n",
       "        text-align: right;\n",
       "    }\n",
       "</style>\n",
       "<table border=\"1\" class=\"dataframe\">\n",
       "  <thead>\n",
       "    <tr style=\"text-align: right;\">\n",
       "      <th></th>\n",
       "      <th>product_name</th>\n",
       "      <th>salt_composition</th>\n",
       "      <th>medicine_desc</th>\n",
       "      <th>side_effects</th>\n",
       "    </tr>\n",
       "  </thead>\n",
       "  <tbody>\n",
       "    <tr>\n",
       "      <th>0</th>\n",
       "      <td>Human Insulatard 40IU/ml Suspension for Injection</td>\n",
       "      <td>[Insulin, Isophane, (40IU)]</td>\n",
       "      <td>[Human, Insulatard, 40IU/ml, Suspension, for, ...</td>\n",
       "      <td>[Hypoglycemia (low blood glucose level), Injec...</td>\n",
       "    </tr>\n",
       "    <tr>\n",
       "      <th>1</th>\n",
       "      <td>Insulin 40IU/ml Injection</td>\n",
       "      <td>[Insulin, Isophane, (40IU)]</td>\n",
       "      <td>[Insulin, 40IU/ml, Injection, is, used, to, im...</td>\n",
       "      <td>[Hypoglycemia (low blood glucose level), Injec...</td>\n",
       "    </tr>\n",
       "    <tr>\n",
       "      <th>2</th>\n",
       "      <td>Huminsulin N 40IU/ml Injection</td>\n",
       "      <td>[Insulin, Isophane, (40IU)]</td>\n",
       "      <td>[Huminsulin, N, 40IU/ml, Injection, is, used, ...</td>\n",
       "      <td>[Hypoglycemia (low blood glucose level), Injec...</td>\n",
       "    </tr>\n",
       "    <tr>\n",
       "      <th>3</th>\n",
       "      <td>Insugen-N 40IU/ml Injection</td>\n",
       "      <td>[Insulin, Isophane, (40IU)]</td>\n",
       "      <td>[Insugen-N, 40IU/ml, Injection, is, used, to, ...</td>\n",
       "      <td>[Hypoglycemia (low blood glucose level), Injec...</td>\n",
       "    </tr>\n",
       "    <tr>\n",
       "      <th>4</th>\n",
       "      <td>Insulatard 100IU/ml Flexpen</td>\n",
       "      <td>[Insulin, Isophane, (100IU/ml)]</td>\n",
       "      <td>[Insulatard, 100IU/ml, Flexpen, is, used, to, ...</td>\n",
       "      <td>[Hypoglycemia (low blood glucose level), Injec...</td>\n",
       "    </tr>\n",
       "    <tr>\n",
       "      <th>5</th>\n",
       "      <td>Huminsulin N 100IU/ml Cartridge</td>\n",
       "      <td>[Insulin, Isophane, (100IU/ml)]</td>\n",
       "      <td>[Huminsulin, N, 100IU/ml, Cartridge, is, used,...</td>\n",
       "      <td>[Hypoglycemia (low blood glucose level), Injec...</td>\n",
       "    </tr>\n",
       "    <tr>\n",
       "      <th>6</th>\n",
       "      <td>Huminsulin N 100IU/ml Injection</td>\n",
       "      <td>[Insulin, Isophane, (100IU)]</td>\n",
       "      <td>[Huminsulin, N, 100IU/ml, Injection, is, used,...</td>\n",
       "      <td>[Hypoglycemia (low blood glucose level), Injec...</td>\n",
       "    </tr>\n",
       "    <tr>\n",
       "      <th>7</th>\n",
       "      <td>Insulatard HM 100IU/ml Penfill</td>\n",
       "      <td>[Insulin, Isophane, (100IU/ml)]</td>\n",
       "      <td>[Insulatard, HM, 100IU/ml, Penfill, is, used, ...</td>\n",
       "      <td>[Hypoglycemia (low blood glucose level), Injec...</td>\n",
       "    </tr>\n",
       "    <tr>\n",
       "      <th>8</th>\n",
       "      <td>Lupisulin N 40IU/ml Injection</td>\n",
       "      <td>[Insulin, Isophane, (40IU)]</td>\n",
       "      <td>[Lupisulin, N, 40IU/ml, Injection, is, used, t...</td>\n",
       "      <td>[Hypoglycemia (low blood glucose level), Injec...</td>\n",
       "    </tr>\n",
       "    <tr>\n",
       "      <th>9</th>\n",
       "      <td>Insugen-N 100IU/ml Refil Injection</td>\n",
       "      <td>[Insulin, Isophane, (100IU)]</td>\n",
       "      <td>[Insugen-N, 100IU/ml, Refil, Injection, is, us...</td>\n",
       "      <td>[Hypoglycemia (low blood glucose level), Injec...</td>\n",
       "    </tr>\n",
       "  </tbody>\n",
       "</table>\n",
       "</div>"
      ],
      "text/plain": [
       "                                        product_name  \\\n",
       "0  Human Insulatard 40IU/ml Suspension for Injection   \n",
       "1                          Insulin 40IU/ml Injection   \n",
       "2                     Huminsulin N 40IU/ml Injection   \n",
       "3                        Insugen-N 40IU/ml Injection   \n",
       "4                        Insulatard 100IU/ml Flexpen   \n",
       "5                    Huminsulin N 100IU/ml Cartridge   \n",
       "6                    Huminsulin N 100IU/ml Injection   \n",
       "7                     Insulatard HM 100IU/ml Penfill   \n",
       "8                      Lupisulin N 40IU/ml Injection   \n",
       "9                 Insugen-N 100IU/ml Refil Injection   \n",
       "\n",
       "                  salt_composition  \\\n",
       "0      [Insulin, Isophane, (40IU)]   \n",
       "1      [Insulin, Isophane, (40IU)]   \n",
       "2      [Insulin, Isophane, (40IU)]   \n",
       "3      [Insulin, Isophane, (40IU)]   \n",
       "4  [Insulin, Isophane, (100IU/ml)]   \n",
       "5  [Insulin, Isophane, (100IU/ml)]   \n",
       "6     [Insulin, Isophane, (100IU)]   \n",
       "7  [Insulin, Isophane, (100IU/ml)]   \n",
       "8      [Insulin, Isophane, (40IU)]   \n",
       "9     [Insulin, Isophane, (100IU)]   \n",
       "\n",
       "                                       medicine_desc  \\\n",
       "0  [Human, Insulatard, 40IU/ml, Suspension, for, ...   \n",
       "1  [Insulin, 40IU/ml, Injection, is, used, to, im...   \n",
       "2  [Huminsulin, N, 40IU/ml, Injection, is, used, ...   \n",
       "3  [Insugen-N, 40IU/ml, Injection, is, used, to, ...   \n",
       "4  [Insulatard, 100IU/ml, Flexpen, is, used, to, ...   \n",
       "5  [Huminsulin, N, 100IU/ml, Cartridge, is, used,...   \n",
       "6  [Huminsulin, N, 100IU/ml, Injection, is, used,...   \n",
       "7  [Insulatard, HM, 100IU/ml, Penfill, is, used, ...   \n",
       "8  [Lupisulin, N, 40IU/ml, Injection, is, used, t...   \n",
       "9  [Insugen-N, 100IU/ml, Refil, Injection, is, us...   \n",
       "\n",
       "                                        side_effects  \n",
       "0  [Hypoglycemia (low blood glucose level), Injec...  \n",
       "1  [Hypoglycemia (low blood glucose level), Injec...  \n",
       "2  [Hypoglycemia (low blood glucose level), Injec...  \n",
       "3  [Hypoglycemia (low blood glucose level), Injec...  \n",
       "4  [Hypoglycemia (low blood glucose level), Injec...  \n",
       "5  [Hypoglycemia (low blood glucose level), Injec...  \n",
       "6  [Hypoglycemia (low blood glucose level), Injec...  \n",
       "7  [Hypoglycemia (low blood glucose level), Injec...  \n",
       "8  [Hypoglycemia (low blood glucose level), Injec...  \n",
       "9  [Hypoglycemia (low blood glucose level), Injec...  "
      ]
     },
     "execution_count": 17,
     "metadata": {},
     "output_type": "execute_result"
    }
   ],
   "source": [
    "data.head(10)"
   ]
  },
  {
   "cell_type": "code",
   "execution_count": 18,
   "id": "b7154e84",
   "metadata": {},
   "outputs": [],
   "source": [
    "data['tags'] = data['side_effects'] + data['medicine_desc'] + data['salt_composition']"
   ]
  },
  {
   "cell_type": "code",
   "execution_count": 19,
   "id": "74775e1d",
   "metadata": {},
   "outputs": [],
   "source": [
    "new_df = data[['product_name', 'tags']]"
   ]
  },
  {
   "cell_type": "code",
   "execution_count": 20,
   "id": "21a2a6c4",
   "metadata": {},
   "outputs": [
    {
     "data": {
      "text/html": [
       "<div>\n",
       "<style scoped>\n",
       "    .dataframe tbody tr th:only-of-type {\n",
       "        vertical-align: middle;\n",
       "    }\n",
       "\n",
       "    .dataframe tbody tr th {\n",
       "        vertical-align: top;\n",
       "    }\n",
       "\n",
       "    .dataframe thead th {\n",
       "        text-align: right;\n",
       "    }\n",
       "</style>\n",
       "<table border=\"1\" class=\"dataframe\">\n",
       "  <thead>\n",
       "    <tr style=\"text-align: right;\">\n",
       "      <th></th>\n",
       "      <th>product_name</th>\n",
       "      <th>tags</th>\n",
       "    </tr>\n",
       "  </thead>\n",
       "  <tbody>\n",
       "    <tr>\n",
       "      <th>0</th>\n",
       "      <td>Human Insulatard 40IU/ml Suspension for Injection</td>\n",
       "      <td>[Hypoglycemia (low blood glucose level), Injec...</td>\n",
       "    </tr>\n",
       "    <tr>\n",
       "      <th>1</th>\n",
       "      <td>Insulin 40IU/ml Injection</td>\n",
       "      <td>[Hypoglycemia (low blood glucose level), Injec...</td>\n",
       "    </tr>\n",
       "    <tr>\n",
       "      <th>2</th>\n",
       "      <td>Huminsulin N 40IU/ml Injection</td>\n",
       "      <td>[Hypoglycemia (low blood glucose level), Injec...</td>\n",
       "    </tr>\n",
       "    <tr>\n",
       "      <th>3</th>\n",
       "      <td>Insugen-N 40IU/ml Injection</td>\n",
       "      <td>[Hypoglycemia (low blood glucose level), Injec...</td>\n",
       "    </tr>\n",
       "    <tr>\n",
       "      <th>4</th>\n",
       "      <td>Insulatard 100IU/ml Flexpen</td>\n",
       "      <td>[Hypoglycemia (low blood glucose level), Injec...</td>\n",
       "    </tr>\n",
       "    <tr>\n",
       "      <th>5</th>\n",
       "      <td>Huminsulin N 100IU/ml Cartridge</td>\n",
       "      <td>[Hypoglycemia (low blood glucose level), Injec...</td>\n",
       "    </tr>\n",
       "    <tr>\n",
       "      <th>6</th>\n",
       "      <td>Huminsulin N 100IU/ml Injection</td>\n",
       "      <td>[Hypoglycemia (low blood glucose level), Injec...</td>\n",
       "    </tr>\n",
       "    <tr>\n",
       "      <th>7</th>\n",
       "      <td>Insulatard HM 100IU/ml Penfill</td>\n",
       "      <td>[Hypoglycemia (low blood glucose level), Injec...</td>\n",
       "    </tr>\n",
       "    <tr>\n",
       "      <th>8</th>\n",
       "      <td>Lupisulin N 40IU/ml Injection</td>\n",
       "      <td>[Hypoglycemia (low blood glucose level), Injec...</td>\n",
       "    </tr>\n",
       "    <tr>\n",
       "      <th>9</th>\n",
       "      <td>Insugen-N 100IU/ml Refil Injection</td>\n",
       "      <td>[Hypoglycemia (low blood glucose level), Injec...</td>\n",
       "    </tr>\n",
       "  </tbody>\n",
       "</table>\n",
       "</div>"
      ],
      "text/plain": [
       "                                        product_name  \\\n",
       "0  Human Insulatard 40IU/ml Suspension for Injection   \n",
       "1                          Insulin 40IU/ml Injection   \n",
       "2                     Huminsulin N 40IU/ml Injection   \n",
       "3                        Insugen-N 40IU/ml Injection   \n",
       "4                        Insulatard 100IU/ml Flexpen   \n",
       "5                    Huminsulin N 100IU/ml Cartridge   \n",
       "6                    Huminsulin N 100IU/ml Injection   \n",
       "7                     Insulatard HM 100IU/ml Penfill   \n",
       "8                      Lupisulin N 40IU/ml Injection   \n",
       "9                 Insugen-N 100IU/ml Refil Injection   \n",
       "\n",
       "                                                tags  \n",
       "0  [Hypoglycemia (low blood glucose level), Injec...  \n",
       "1  [Hypoglycemia (low blood glucose level), Injec...  \n",
       "2  [Hypoglycemia (low blood glucose level), Injec...  \n",
       "3  [Hypoglycemia (low blood glucose level), Injec...  \n",
       "4  [Hypoglycemia (low blood glucose level), Injec...  \n",
       "5  [Hypoglycemia (low blood glucose level), Injec...  \n",
       "6  [Hypoglycemia (low blood glucose level), Injec...  \n",
       "7  [Hypoglycemia (low blood glucose level), Injec...  \n",
       "8  [Hypoglycemia (low blood glucose level), Injec...  \n",
       "9  [Hypoglycemia (low blood glucose level), Injec...  "
      ]
     },
     "execution_count": 20,
     "metadata": {},
     "output_type": "execute_result"
    }
   ],
   "source": [
    "new_df.head(10)"
   ]
  },
  {
   "cell_type": "code",
   "execution_count": 21,
   "id": "dd49aa7c",
   "metadata": {},
   "outputs": [
    {
     "name": "stderr",
     "output_type": "stream",
     "text": [
      "/var/folders/ty/hpgmhx4d1fgb74lcyb4_wrk40000gn/T/ipykernel_1994/1824047427.py:1: SettingWithCopyWarning: \n",
      "A value is trying to be set on a copy of a slice from a DataFrame.\n",
      "Try using .loc[row_indexer,col_indexer] = value instead\n",
      "\n",
      "See the caveats in the documentation: https://pandas.pydata.org/pandas-docs/stable/user_guide/indexing.html#returning-a-view-versus-a-copy\n",
      "  new_df['tags'] = new_df['tags'].apply(lambda x: \" \".join(x))\n"
     ]
    }
   ],
   "source": [
    "new_df['tags'] = new_df['tags'].apply(lambda x: \" \".join(x))"
   ]
  },
  {
   "cell_type": "code",
   "execution_count": 22,
   "id": "67c9ff05",
   "metadata": {},
   "outputs": [],
   "source": [
    "import nltk\n",
    "from nltk.stem.porter import PorterStemmer\n",
    "ps = PorterStemmer()"
   ]
  },
  {
   "cell_type": "code",
   "execution_count": 23,
   "id": "dccf766d",
   "metadata": {},
   "outputs": [],
   "source": [
    "def stem(text):\n",
    "    y = []\n",
    "    for i in text.split():\n",
    "       y.append (ps.stem(i))\n",
    "    return \" \".join(y)"
   ]
  },
  {
   "cell_type": "code",
   "execution_count": 24,
   "id": "20770f82",
   "metadata": {},
   "outputs": [
    {
     "name": "stderr",
     "output_type": "stream",
     "text": [
      "/var/folders/ty/hpgmhx4d1fgb74lcyb4_wrk40000gn/T/ipykernel_1994/3213734980.py:1: SettingWithCopyWarning: \n",
      "A value is trying to be set on a copy of a slice from a DataFrame.\n",
      "Try using .loc[row_indexer,col_indexer] = value instead\n",
      "\n",
      "See the caveats in the documentation: https://pandas.pydata.org/pandas-docs/stable/user_guide/indexing.html#returning-a-view-versus-a-copy\n",
      "  new_df['tags'] = new_df['tags'].apply(stem)\n"
     ]
    }
   ],
   "source": [
    "new_df['tags'] = new_df['tags'].apply(stem)"
   ]
  },
  {
   "cell_type": "code",
   "execution_count": 25,
   "id": "fced93e8",
   "metadata": {},
   "outputs": [
    {
     "data": {
      "text/plain": [
       "\"hypoglycemia (low blood glucos level) inject site allerg reaction lipodystrophi (skin thicken or pit at the inject site) weight gain edema (swelling) human insulatard 40iu/ml suspens for inject is use to improv blood sugar control in adult and children with type 1 and type 2 diabet mellitus. it is an intermediate-act type of insulin that help to lower blood sugar level and reduc the chanc of develop seriou complic of diabetes.human insulatard 40iu/ml suspens for inject is often prescrib along with short-act insulin or other oral diabet medicines. your doctor or nurs will teach you the correct way of inject it under the skin. don’t stop take it unless your doctor tell you to. it is onli part of a treatment program that should also includ a healthi diet, regular exercise, and weight reduct as advis by your doctor.check your blood sugar level regularly, keep track of your result and share them with your doctor. thi is veri import to work out the correct dose of the medicin for you.th most common side effect of thi medicin is low blood sugar level (hypoglycemia). to prevent this, it' import to alway inject the correct dose of medicin only, have regular meals, and monitor your blood sugar level regularly. drink excess alcohol can also lead to a fall in your blood sugar levels. other side effect includ reaction at the inject site like red or swelling. repeat punctur of the same site of the skin may lead to lipodystrophi (skin thicken or pit at the inject site). some peopl may gain weight or develop edema (swell over the whole bodi due to fluid retention) while take insulin.do not use thi medicin when you have low blood glucos level (hypoglycemia). tell your doctor if you have ever had kidney, liver or heart problem befor start treatment. pregnant or breastfeed women should also consult their doctor as the dose may need to be changed. insulin isophan (40iu)\""
      ]
     },
     "execution_count": 25,
     "metadata": {},
     "output_type": "execute_result"
    }
   ],
   "source": [
    "new_df.tags[0]"
   ]
  },
  {
   "cell_type": "code",
   "execution_count": 27,
   "id": "e1fd4323",
   "metadata": {},
   "outputs": [
    {
     "name": "stderr",
     "output_type": "stream",
     "text": [
      "/var/folders/ty/hpgmhx4d1fgb74lcyb4_wrk40000gn/T/ipykernel_1994/1380776331.py:1: SettingWithCopyWarning: \n",
      "A value is trying to be set on a copy of a slice from a DataFrame.\n",
      "Try using .loc[row_indexer,col_indexer] = value instead\n",
      "\n",
      "See the caveats in the documentation: https://pandas.pydata.org/pandas-docs/stable/user_guide/indexing.html#returning-a-view-versus-a-copy\n",
      "  new_df['tags'] = new_df['tags'].apply(lambda x: x.lower())\n"
     ]
    }
   ],
   "source": [
    "new_df['tags'] = new_df['tags'].apply(lambda x: x.lower())"
   ]
  },
  {
   "cell_type": "markdown",
   "id": "451001d7",
   "metadata": {},
   "source": [
    "######Vectorization########"
   ]
  },
  {
   "cell_type": "code",
   "execution_count": 28,
   "id": "4971ac33",
   "metadata": {},
   "outputs": [],
   "source": [
    "from sklearn.feature_extraction.text import CountVectorizer\n",
    "cv = CountVectorizer(max_features=5000, stop_words='english')   "
   ]
  },
  {
   "cell_type": "code",
   "execution_count": 29,
   "id": "0117b198",
   "metadata": {},
   "outputs": [],
   "source": [
    "vectors = cv.fit_transform(new_df['tags']).toarray()"
   ]
  },
  {
   "cell_type": "code",
   "execution_count": 30,
   "id": "642aec3c",
   "metadata": {},
   "outputs": [
    {
     "data": {
      "text/plain": [
       "array([[0, 0, 0, ..., 0, 0, 0],\n",
       "       [0, 0, 0, ..., 0, 0, 0],\n",
       "       [0, 0, 0, ..., 0, 0, 0],\n",
       "       ...,\n",
       "       [0, 0, 0, ..., 0, 0, 0],\n",
       "       [0, 0, 0, ..., 0, 0, 0],\n",
       "       [0, 0, 0, ..., 0, 0, 0]])"
      ]
     },
     "execution_count": 30,
     "metadata": {},
     "output_type": "execute_result"
    }
   ],
   "source": [
    "vectors"
   ]
  },
  {
   "cell_type": "code",
   "execution_count": 31,
   "id": "a63e1713",
   "metadata": {},
   "outputs": [
    {
     "data": {
      "text/plain": [
       "array(['004', '005', '01', ..., 'zymoflam', 'zyrop', 'zyte'], dtype=object)"
      ]
     },
     "execution_count": 31,
     "metadata": {},
     "output_type": "execute_result"
    }
   ],
   "source": [
    "cv.get_feature_names_out()"
   ]
  },
  {
   "cell_type": "code",
   "execution_count": 32,
   "id": "e7664782",
   "metadata": {},
   "outputs": [],
   "source": [
    "\n",
    "#using cosine distance to find similarity between the vectors\n",
    "from sklearn.metrics.pairwise import cosine_similarity"
   ]
  },
  {
   "cell_type": "code",
   "execution_count": 34,
   "id": "1c3db87e",
   "metadata": {},
   "outputs": [],
   "source": [
    "similarity = cosine_similarity(vectors)"
   ]
  },
  {
   "cell_type": "code",
   "execution_count": 35,
   "id": "a3f05507",
   "metadata": {},
   "outputs": [
    {
     "data": {
      "text/plain": [
       "(7477, 7477)"
      ]
     },
     "execution_count": 35,
     "metadata": {},
     "output_type": "execute_result"
    }
   ],
   "source": [
    "similarity.shape"
   ]
  },
  {
   "cell_type": "code",
   "execution_count": 36,
   "id": "1e5ec3e3",
   "metadata": {},
   "outputs": [],
   "source": [
    "#main recommendation fucntion\n",
    "\n",
    "def recommend(medicine):\n",
    "    medicine_index = new_df[new_df['product_name'] == medicine].index[0]\n",
    "    similar_medicines = sorted(list(enumerate(similarity[medicine_index])), reverse=True, key=lambda x: x[1])[1:6]\n",
    "    \n",
    "    for i in similar_medicines:\n",
    "        print(new_df.iloc[i[0]].product_name)"
   ]
  },
  {
   "cell_type": "code",
   "execution_count": 38,
   "id": "db07f5e6",
   "metadata": {},
   "outputs": [
    {
     "name": "stdout",
     "output_type": "stream",
     "text": [
      "Lentard 40IU/ml Injection\n",
      "Longact 40IU/ml Injection\n",
      "Insucare N 40IU/ml Injection\n",
      "Humanext N 40IU/ml Injection\n",
      "Huminsulin N 40IU/ml Injection\n"
     ]
    }
   ],
   "source": [
    "recommend('Insulin 40IU/ml Injection')"
   ]
  },
  {
   "cell_type": "code",
   "execution_count": 39,
   "id": "8f6355d1",
   "metadata": {},
   "outputs": [],
   "source": [
    "##pickling the model\n",
    "import pickle"
   ]
  },
  {
   "cell_type": "code",
   "execution_count": 41,
   "id": "cdb906d0",
   "metadata": {},
   "outputs": [],
   "source": [
    "pickle.dump(new_df.to_dict(), open('medicine_dict.pkl', 'wb'))"
   ]
  },
  {
   "cell_type": "code",
   "execution_count": 42,
   "id": "f9224946",
   "metadata": {},
   "outputs": [],
   "source": [
    "pickle.dump(similarity, open('similarity.pkl', 'wb'))"
   ]
  }
 ],
 "metadata": {
  "kernelspec": {
   "display_name": "Python 3",
   "language": "python",
   "name": "python3"
  },
  "language_info": {
   "codemirror_mode": {
    "name": "ipython",
    "version": 3
   },
   "file_extension": ".py",
   "mimetype": "text/x-python",
   "name": "python",
   "nbconvert_exporter": "python",
   "pygments_lexer": "ipython3",
   "version": "3.10.1"
  }
 },
 "nbformat": 4,
 "nbformat_minor": 5
}
